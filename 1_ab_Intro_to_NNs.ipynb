{
  "cells": [
    {
      "cell_type": "markdown",
      "metadata": {
        "id": "PbzBJ1m9FBBb"
      },
      "source": [
        "<center><h1>1-ab: Introduction to Neural Networks</h1></center>\n",
        "\n",
        "<center><h2><a href=\"https://rdfia.github.io/\">Course link</a></h2></center>\n",
        "\n",
        "# Warning :\n",
        "# Do \"File -> Save a copy in Drive\" before you start modifying the notebook, otherwise your modifications will not be saved.\n"
      ]
    },
    {
      "cell_type": "code",
      "execution_count": 212,
      "metadata": {
        "id": "NfnKy8NB8J5e"
      },
      "outputs": [],
      "source": [
        "# !wget https://github.com/rdfia/rdfia.github.io/raw/master/data/2-ab.zip\n",
        "# !unzip -j 2-ab.zip\n",
        "# !wget https://github.com/rdfia/rdfia.github.io/raw/master/code/2-ab/utils-data.py"
      ]
    },
    {
      "cell_type": "code",
      "execution_count": 213,
      "metadata": {
        "id": "2vQ_LLdx8J5b"
      },
      "outputs": [],
      "source": [
        "import math\n",
        "import torch\n",
        "from torch.autograd import Variable\n",
        "import numpy as np\n",
        "import matplotlib\n",
        "import matplotlib.pyplot as plt\n",
        "%run 'utils-data.py'\n",
        "\n",
        "device = torch.device(\"cpu\")\n",
        "dtype = torch.float"
      ]
    },
    {
      "cell_type": "markdown",
      "metadata": {
        "id": "48x_ha7f8J5i"
      },
      "source": [
        "# Part 1 : Forward and backward passes \"by hands\""
      ]
    },
    {
      "cell_type": "code",
      "execution_count": 214,
      "metadata": {
        "id": "GtizX1JV8J5n"
      },
      "outputs": [],
      "source": [
        "def init_params(nx, nh, ny):\n",
        "    \"\"\"\n",
        "    nx, nh, ny: integers (dimensions of input, hidden and output layers)\n",
        "    out params: dictionnary\n",
        "    \"\"\"\n",
        "    params = {}\n",
        "\n",
        "    #####################\n",
        "    ## Your code here  ##\n",
        "    #####################\n",
        "    # fill values for Wh, Wy, bh, by\n",
        "    #initialize randomly with some gaussian functions (not all zero, initialization does matter!)\n",
        "\n",
        "    #All weights will be initialized according to a normal distribution of mean 0 and standard deviation 0.3.\n",
        "    params[\"Wh\"] = torch.randn(nh, nx, device=device, dtype=dtype) * 0.3\n",
        "    params[\"Wy\"] = torch.randn(nh, ny) * 0.3\n",
        "    params[\"bh\"] = torch.zeros(nh, 1)\n",
        "    params[\"by\"] = torch.zeros(ny, 1) \n",
        "\n",
        "    ####################\n",
        "    ##      END        #\n",
        "    ####################\n",
        "    return params"
      ]
    },
    {
      "cell_type": "code",
      "execution_count": 215,
      "metadata": {},
      "outputs": [],
      "source": [
        "def linear_affine_transformation(W, X, b):\n",
        "    \"\"\" \n",
        "    linear transformation: ŷ = f (x) = W x with W a matrix of size ny x nx . This transformation is the standard layer of classical\n",
        "neural networks. As a side note, we often use an affine transformation f (x) = W x + b, where b a vector of\n",
        "size ny .\n",
        "    \"\"\"\n",
        "    return torch.mm(W,X) + b\n",
        "\n",
        "def activation_function_tanh(x):\n",
        "    return torch.tanh(x)\n",
        "\n",
        "def activation_function_softmax(x):\n",
        "    return torch.exp(x)/torch.sum(torch.exp(x), dim=0)\n",
        "\n",
        "def activation_function_sigmoid(x):\n",
        "    return 1/(1+torch.exp(-x))\n",
        "\n",
        "def activation_function_relu(x):\n",
        "    return torch.max(torch.zeros(x.size()), x)\n"
      ]
    },
    {
      "cell_type": "code",
      "execution_count": 216,
      "metadata": {
        "id": "jk-N_Ny67yo-"
      },
      "outputs": [],
      "source": [
        "def forward(params, X):\n",
        "    \"\"\"\n",
        "    params: dictionnary\n",
        "    X: (n_batch, dimension)\n",
        "    \n",
        "    Write the function forward (params, X) which calculates the intermediate steps and the output\n",
        "of the network from an input batch X of size nbatch * nx and weights stored in params and store\n",
        "them in a dictionary. We return the dictionary of intermediate steps and the output Ŷ of the network.\n",
        "Hint: we will use torch.mm for matrix multiplication, and torch.tanh, torch.exp, torch.sum\n",
        "    \"\"\"\n",
        "    bsize = X.size(0) #size nbatch * nx \n",
        "    nh = params['Wh'].size(0) #matrix of weights Wh of size nh × nx\n",
        "    ny = params['Wy'].size(0) #bias vector bh of size nh\n",
        "    outputs = {}\n",
        "\n",
        "    #####################\n",
        "    ## Your code here  ##   \n",
        "    #####################\n",
        "    # fill values for X, htilde, h, ytilde, yhat\n",
        "    \n",
        "    outputs[\"X\"] = X\n",
        "    # print(\"linear affine transformation to get htilde\")\n",
        "    # print(\"X\", outputs[\"X\"].shape)\n",
        "    # print(\"Wh\",params[\"Wh\"].shape)\n",
        "    # print(\"bh\",params[\"bh\"].shape)\n",
        "    outputs[\"htilde\"] = linear_affine_transformation(params[\"Wh\"], X.T, params[\"bh\"])\n",
        "    outputs[\"h\"] = activation_function_tanh(outputs[\"htilde\"])\n",
        "    # print(\"linear affine transformation to get ytilde\")\n",
        "    # print(\"h\", outputs[\"h\"].shape)\n",
        "    # print(\"Wy\",params[\"Wy\"].shape)\n",
        "    # print(\"by\",params[\"by\"].shape)\n",
        "    outputs[\"ytilde\"] = linear_affine_transformation(outputs[\"h\"].T,params[\"Wy\"], params[\"by\"].T)\n",
        "    outputs[\"yhat\"] = activation_function_softmax(outputs[\"ytilde\"])\n",
        "\n",
        "    ####################\n",
        "    ##      END        #\n",
        "    ####################\n",
        "\n",
        "    #output all the intermediate values, useful for computing the gradient during the backward pass later\n",
        "\n",
        "    return outputs['yhat'], outputs"
      ]
    },
    {
      "cell_type": "code",
      "execution_count": 217,
      "metadata": {
        "id": "-uB0A2b28NZK"
      },
      "outputs": [],
      "source": [
        "def loss_accuracy(Yhat, Y):\n",
        "    \"\"\"\n",
        "    Write the function loss_accuracy (Yhat, Y) which computes the cost function and the precision\n",
        "(rate of good predictions) from an output matrix Ŷ (output of forward ) with respect to a ground\n",
        "truth matrix Y of the same size, and returns the loss L and the precision acc .\n",
        "Note: We will use the _, indsY = torch.max (Y, 1) function which returns the index of the\n",
        "predicted class (or to be predicted) for each example.\n",
        "Hints: torch.mean, torch.max, torch.log, torch.sum\n",
        "    \"\"\"\n",
        "\n",
        "    #####################\n",
        "    ## Your code here  ##\n",
        "    #####################\n",
        "\n",
        "    L = 0\n",
        "    acc = 0 \n",
        "\n",
        "    # Compute the cross-entropy loss\n",
        "    L= -torch.mean(torch.sum(Y * torch.log(Yhat), dim=1))\n",
        "\n",
        "    # Compute the precision (accuracy)\n",
        "    _, indsY = torch.max(Y, 1)\n",
        "    _, indsYhat = torch.max(Yhat, 1)\n",
        "    correct_predictions = torch.sum(indsY == indsYhat)\n",
        "    acc = torch.mean(correct_predictions.float())\n",
        "\n",
        "    ####################\n",
        "    ##      END        #\n",
        "    ####################\n",
        "\n",
        "    return L, acc"
      ]
    },
    {
      "cell_type": "code",
      "execution_count": 218,
      "metadata": {
        "id": "WWJjdiFe8qi5"
      },
      "outputs": [],
      "source": [
        "def backward(params, outputs, Y):\n",
        "    \"\"\" \n",
        "    Write the function backward (params, outputs, Y) which calculates the gradients of the loss\n",
        "with respect to the parameters and stores them in a dictionary.\n",
        "    \"\"\"\n",
        "    bsize = Y.shape[0]\n",
        "    grads = {}\n",
        "\n",
        "    #####################\n",
        "    ## Your code here  ##\n",
        "    #####################\n",
        "    # fill values for Wy, Wh, by, bh\n",
        "    #use the formula on the backpropagation sheet\n",
        "\n",
        "\n",
        "    print(\"Wy shape\",params[\"Wy\"].shape)\n",
        "    print(\"Wh shape\",params[\"Wh\"].shape)\n",
        "    print(\"by shape\",params[\"by\"].shape)\n",
        "    print(\"bh shape\",params[\"bh\"].shape)\n",
        "    print(\"h shape\",outputs[\"h\"].shape)\n",
        "    print(\"yhat shape\",outputs[\"yhat\"].shape)\n",
        "\n",
        "    grad_ytilde = outputs[\"yhat\"] - Y\n",
        "    print(\"grad y tilde shape\",grad_ytilde.shape)\n",
        "    grad_htilde =  grad_ytilde.mm(params[\"Wy\"].T) * (1 - outputs[\"h\"] ** 2) # Element-wise multiplication of grad_Y and Wy is done with .mm() function\n",
        "\n",
        "\n",
        "    print(\"grad h tilde shape\",grad_htilde.shape)\n",
        "\n",
        "    grads[\"Wy\"] = grad_ytilde.T.mm(outputs[\"h\"])\n",
        "    grads[\"Wh\"] = grad_htilde.T.mm(outputs[\"X\"])\n",
        "    grads[\"by\"] = grad_ytilde.T\n",
        "    grads[\"bh\"] = grad_htilde.T\n",
        "\n",
        "    ####################\n",
        "    ##      END        #\n",
        "    ####################\n",
        "    return grads"
      ]
    },
    {
      "cell_type": "code",
      "execution_count": 219,
      "metadata": {
        "id": "nAnsISsW9CnH"
      },
      "outputs": [],
      "source": [
        "def sgd(params, grads, eta):\n",
        "    \"\"\"\n",
        "    Write the function sgd (params, grads, eta) which applies a stochastic gradient descent by\n",
        "mini-batch and updates the network parameters from their gradients and the learning step\n",
        "    \"\"\"\n",
        "\n",
        "    #####################\n",
        "    ## Your code here  ##\n",
        "    #####################\n",
        "\n",
        "    params[\"Wh\"] = params[\"Wh\"] - eta * grads[\"Wh\"]\n",
        "    params[\"Wy\"] = params[\"Wy\"] - eta * grads[\"Wy\"]\n",
        "    params[\"bh\"] = params[\"bh\"] - eta * grads[\"bh\"]\n",
        "    params[\"by\"] = params[\"by\"] - eta * grads[\"by\"]\n",
        "\n",
        "    ####################\n",
        "    ##      END        #\n",
        "    ####################\n",
        "    return params"
      ]
    },
    {
      "cell_type": "markdown",
      "metadata": {
        "id": "hifuW5UFA3DZ"
      },
      "source": [
        "## Global learning procedure \"by hands\""
      ]
    },
    {
      "cell_type": "code",
      "execution_count": 220,
      "metadata": {
        "id": "4RSw6bd0-qUe"
      },
      "outputs": [
        {
          "data": {
            "image/png": "[encoded data removed]",
            "text/plain": [
              "<Figure size 500x500 with 1 Axes>"
            ]
          },
          "metadata": {},
          "output_type": "display_data"
        },
        {
          "name": "stdout",
          "output_type": "stream",
          "text": [
            "nx 2\n",
            "nh 10\n",
            "ny 2\n",
            "{'Wh': tensor([[-0.0369, -0.3222],\n",
            "        [ 0.2135,  0.3184],\n",
            "        [ 0.2718,  0.2481],\n",
            "        [-0.1692, -0.0662],\n",
            "        [ 0.1345, -0.0724],\n",
            "        [ 0.0521, -0.1431],\n",
            "        [-0.2252,  0.2022],\n",
            "        [-0.0177, -0.1694],\n",
            "        [-0.0281, -0.4054],\n",
            "        [-0.0799, -0.0647]]), 'Wy': tensor([[ 1.9721e-02,  6.0649e-02],\n",
            "        [-4.7975e-01, -2.6687e-01],\n",
            "        [ 1.5843e-01, -2.7801e-01],\n",
            "        [ 6.5281e-02, -5.7081e-01],\n",
            "        [ 2.2910e-01, -3.2855e-01],\n",
            "        [ 1.9639e-01, -3.2289e-02],\n",
            "        [ 9.4592e-02, -6.9910e-01],\n",
            "        [-6.2097e-01, -2.2233e-05],\n",
            "        [-5.5528e-01,  5.1196e-01],\n",
            "        [ 3.0952e-01,  7.2955e-02]]), 'bh': tensor([[0.],\n",
            "        [0.],\n",
            "        [0.],\n",
            "        [0.],\n",
            "        [0.],\n",
            "        [0.],\n",
            "        [0.],\n",
            "        [0.],\n",
            "        [0.],\n",
            "        [0.]]), 'by': tensor([[0.],\n",
            "        [0.]])}\n",
            "X shape in main torch.Size([10, 2])\n",
            "Y shape in main torch.Size([10, 2])\n",
            "Wy shape torch.Size([10, 2])\n",
            "Wh shape torch.Size([10, 2])\n",
            "by shape torch.Size([2, 1])\n",
            "bh shape torch.Size([10, 1])\n",
            "h shape torch.Size([10, 10])\n",
            "yhat shape torch.Size([10, 2])\n",
            "grad y tilde shape torch.Size([10, 2])\n",
            "grad h tilde shape torch.Size([10, 10])\n"
          ]
        },
        {
          "ename": "RuntimeError",
          "evalue": "The size of tensor a (10) must match the size of tensor b (2) at non-singleton dimension 1",
          "output_type": "error",
          "traceback": [
            "\u001b[0;31m---------------------------------------------------------------------------\u001b[0m",
            "\u001b[0;31mRuntimeError\u001b[0m                              Traceback (most recent call last)",
            "\u001b[1;32m/home/leo/github/rfdia-lectures/1_ab_Intro_to_NNs.ipynb Cell 12\u001b[0m in \u001b[0;36m5\n\u001b[1;32m     <a href='vscode-notebook-cell:/home/leo/github/rfdia-lectures/1_ab_Intro_to_NNs.ipynb#X14sZmlsZQ%3D%3D?line=46'>47</a>\u001b[0m L, acc \u001b[39m=\u001b[39m loss_accuracy(Yhat, Y)\n\u001b[1;32m     <a href='vscode-notebook-cell:/home/leo/github/rfdia-lectures/1_ab_Intro_to_NNs.ipynb#X14sZmlsZQ%3D%3D?line=48'>49</a>\u001b[0m \u001b[39m# batch backward pass\u001b[39;00m\n\u001b[0;32m---> <a href='vscode-notebook-cell:/home/leo/github/rfdia-lectures/1_ab_Intro_to_NNs.ipynb#X14sZmlsZQ%3D%3D?line=49'>50</a>\u001b[0m grads \u001b[39m=\u001b[39m backward(params, outputs, Y)\n\u001b[1;32m     <a href='vscode-notebook-cell:/home/leo/github/rfdia-lectures/1_ab_Intro_to_NNs.ipynb#X14sZmlsZQ%3D%3D?line=51'>52</a>\u001b[0m \u001b[39m# gradient descent\u001b[39;00m\n\u001b[1;32m     <a href='vscode-notebook-cell:/home/leo/github/rfdia-lectures/1_ab_Intro_to_NNs.ipynb#X14sZmlsZQ%3D%3D?line=52'>53</a>\u001b[0m params \u001b[39m=\u001b[39m sgd(params, grads, eta)\n",
            "\u001b[1;32m/home/leo/github/rfdia-lectures/1_ab_Intro_to_NNs.ipynb Cell 12\u001b[0m in \u001b[0;36m3\n\u001b[1;32m     <a href='vscode-notebook-cell:/home/leo/github/rfdia-lectures/1_ab_Intro_to_NNs.ipynb#X14sZmlsZQ%3D%3D?line=27'>28</a>\u001b[0m \u001b[39mprint\u001b[39m(\u001b[39m\"\u001b[39m\u001b[39mgrad h tilde shape\u001b[39m\u001b[39m\"\u001b[39m,grad_htilde\u001b[39m.\u001b[39mshape)\n\u001b[1;32m     <a href='vscode-notebook-cell:/home/leo/github/rfdia-lectures/1_ab_Intro_to_NNs.ipynb#X14sZmlsZQ%3D%3D?line=29'>30</a>\u001b[0m grads[\u001b[39m\"\u001b[39m\u001b[39mWy\u001b[39m\u001b[39m\"\u001b[39m] \u001b[39m=\u001b[39m grad_ytilde\u001b[39m.\u001b[39mT\u001b[39m.\u001b[39mmm(outputs[\u001b[39m\"\u001b[39m\u001b[39mh\u001b[39m\u001b[39m\"\u001b[39m])\n\u001b[0;32m---> <a href='vscode-notebook-cell:/home/leo/github/rfdia-lectures/1_ab_Intro_to_NNs.ipynb#X14sZmlsZQ%3D%3D?line=30'>31</a>\u001b[0m grads[\u001b[39m\"\u001b[39m\u001b[39mWh\u001b[39m\u001b[39m\"\u001b[39m] \u001b[39m=\u001b[39m grad_htilde\u001b[39m.\u001b[39;49mT\u001b[39m*\u001b[39;49moutputs[\u001b[39m\"\u001b[39;49m\u001b[39mX\u001b[39;49m\u001b[39m\"\u001b[39;49m]\n\u001b[1;32m     <a href='vscode-notebook-cell:/home/leo/github/rfdia-lectures/1_ab_Intro_to_NNs.ipynb#X14sZmlsZQ%3D%3D?line=31'>32</a>\u001b[0m grads[\u001b[39m\"\u001b[39m\u001b[39mby\u001b[39m\u001b[39m\"\u001b[39m] \u001b[39m=\u001b[39m grad_ytilde\u001b[39m.\u001b[39mT\n\u001b[1;32m     <a href='vscode-notebook-cell:/home/leo/github/rfdia-lectures/1_ab_Intro_to_NNs.ipynb#X14sZmlsZQ%3D%3D?line=32'>33</a>\u001b[0m grads[\u001b[39m\"\u001b[39m\u001b[39mbh\u001b[39m\u001b[39m\"\u001b[39m] \u001b[39m=\u001b[39m grad_htilde\u001b[39m.\u001b[39mT\n",
            "\u001b[0;31mRuntimeError\u001b[0m: The size of tensor a (10) must match the size of tensor b (2) at non-singleton dimension 1"
          ]
        }
      ],
      "source": [
        "# init\n",
        "data = CirclesData()\n",
        "data.plot_data()\n",
        "N = data.Xtrain.shape[0]\n",
        "Nbatch = 10\n",
        "nx = data.Xtrain.shape[1]\n",
        "nh = 10\n",
        "ny = data.Ytrain.shape[1]\n",
        "eta = 0.03\n",
        "\n",
        "print(\"nx\", nx)\n",
        "print(\"nh\", nh)\n",
        "print(\"ny\", ny)\n",
        "\n",
        "params = init_params(nx, nh, ny)\n",
        "print (params)\n",
        "\n",
        "curves = [[],[], [], []]\n",
        "\n",
        "# epoch\n",
        "for iteration in range(150):\n",
        "\n",
        "    # permute\n",
        "    perm = np.random.permutation(N)\n",
        "    Xtrain = data.Xtrain[perm, :]\n",
        "    Ytrain = data.Ytrain[perm, :]\n",
        "\n",
        "    #####################\n",
        "    ## Your code here  ##\n",
        "    #####################\n",
        "    # batches\n",
        "    for j in range(N // Nbatch):\n",
        "\n",
        "        indsBatch = range(j * Nbatch, (j+1) * Nbatch)\n",
        "        X = Xtrain[indsBatch, :]\n",
        "        Y = Ytrain[indsBatch, :]\n",
        "\n",
        "        # write the optimization algorithm on the batch (X,Y)\n",
        "        # using the functions: forward, loss_accuracy, backward, sgd\n",
        "\n",
        "        # Batch forward pass\n",
        "        print(\"X shape in main\", X.shape)\n",
        "        print(\"Y shape in main\", Y.shape)\n",
        "        Yhat, outputs = forward(params, X)\n",
        "\n",
        "        # computing the loss on the batch\n",
        "        L, acc = loss_accuracy(Yhat, Y)\n",
        "\n",
        "        # batch backward pass\n",
        "        grads = backward(params, outputs, Y)\n",
        "\n",
        "        # gradient descent\n",
        "        params = sgd(params, grads, eta)\n",
        "\n",
        "\n",
        "    ####################\n",
        "    ##      END        #\n",
        "    ####################\n",
        "\n",
        "    #computing and showing the loss and the accuracy on train and test\n",
        "    Yhat_train, _ = forward(params, data.Xtrain)\n",
        "    Yhat_test, _ = forward(params, data.Xtest)\n",
        "    Ltrain, acctrain = loss_accuracy(Yhat_train, data.Ytrain)\n",
        "    Ltest, acctest = loss_accuracy(Yhat_test, data.Ytest)\n",
        "    Ygrid, _ = forward(params, data.Xgrid)\n",
        "\n",
        "    #showing the decision boundary with plot_data_with_grid\n",
        "    title = 'Iter {}: Acc train {:.1f}% ({:.2f}), acc test {:.1f}% ({:.2f})'.format(iteration, acctrain, Ltrain, acctest, Ltest)\n",
        "    print(title)\n",
        "    data.plot_data_with_grid(Ygrid, title)\n",
        "\n",
        "    curves[0].append(acctrain)\n",
        "    curves[1].append(acctest)\n",
        "    curves[2].append(Ltrain)\n",
        "    curves[3].append(Ltest)\n",
        "\n",
        "fig = plt.figure()\n",
        "plt.plot(curves[0], label=\"acc. train\")\n",
        "plt.plot(curves[1], label=\"acc. test\")\n",
        "plt.plot(curves[2], label=\"loss train\")\n",
        "plt.plot(curves[3], label=\"loss test\")\n",
        "plt.legend()\n",
        "plt.show()"
      ]
    },
    {
      "cell_type": "markdown",
      "metadata": {
        "id": "OrHHH5PL8J54"
      },
      "source": [
        "# Part 2 : Simplification of the backward pass with `torch.autograd`\n",
        "\n"
      ]
    },
    {
      "cell_type": "code",
      "execution_count": null,
      "metadata": {
        "id": "7G4q5zP0CEvB"
      },
      "outputs": [],
      "source": [
        "def init_params(nx, nh, ny):\n",
        "    \"\"\"\n",
        "    nx, nh, ny: integers\n",
        "    out params: dictionnary\n",
        "    \"\"\"\n",
        "    params = {}\n",
        "\n",
        "    #####################\n",
        "    ## Your code here  ##\n",
        "    #####################\n",
        "    # fill values for Wh, Wy, bh, by\n",
        "    # activaye autograd on the network weights\n",
        "\n",
        "    params[\"Wh\"] = None\n",
        "    params[\"Wy\"] = None\n",
        "    params[\"bh\"] = None\n",
        "    params[\"by\"] = None\n",
        "\n",
        "    ####################\n",
        "    ##      END        #\n",
        "    ####################\n",
        "    return params"
      ]
    },
    {
      "cell_type": "markdown",
      "metadata": {
        "id": "ZL0tSjpKCyVB"
      },
      "source": [
        "The function `forward` remains unchanged from previous part.\n",
        "\n",
        "The function `backward` is no longer used because of \"autograd\"."
      ]
    },
    {
      "cell_type": "code",
      "execution_count": null,
      "metadata": {
        "id": "hA4ycHlfBzCK"
      },
      "outputs": [],
      "source": [
        "def sgd(params, eta):\n",
        "\n",
        "    #####################\n",
        "    ## Your code here  ##\n",
        "    #####################\n",
        "    # update the network weights\n",
        "    # warning: use torch.no_grad()\n",
        "    # and reset to zero the gradient accumulators\n",
        "\n",
        "    params[\"Wh\"] = None\n",
        "    params[\"Wy\"] = None\n",
        "    params[\"bh\"] = None\n",
        "    params[\"by\"] = None\n",
        "\n",
        "    ####################\n",
        "    ##      END        #\n",
        "    ####################\n",
        "    return params"
      ]
    },
    {
      "cell_type": "markdown",
      "metadata": {
        "id": "rjgcmgQpDfOb"
      },
      "source": [
        "## Global learning procedure with autograd"
      ]
    },
    {
      "cell_type": "code",
      "execution_count": null,
      "metadata": {
        "id": "8p5oR3EqDea-"
      },
      "outputs": [],
      "source": [
        "# init\n",
        "data = CirclesData()\n",
        "data.plot_data()\n",
        "N = data.Xtrain.shape[0]\n",
        "Nbatch = 10\n",
        "nx = data.Xtrain.shape[1]\n",
        "nh = 10\n",
        "ny = data.Ytrain.shape[1]\n",
        "eta = 0.03\n",
        "\n",
        "params = init_params(nx, nh, ny)\n",
        "\n",
        "curves = [[],[], [], []]\n",
        "\n",
        "# epoch\n",
        "for iteration in range(150):\n",
        "\n",
        "    # permute\n",
        "    perm = np.random.permutation(N)\n",
        "    Xtrain = data.Xtrain[perm, :]\n",
        "    Ytrain = data.Ytrain[perm, :]\n",
        "\n",
        "    #####################\n",
        "    ## Your code here  ##\n",
        "    #####################\n",
        "    # batches\n",
        "    for j in range(N // Nbatch):\n",
        "\n",
        "        indsBatch = range(j * Nbatch, (j+1) * Nbatch)\n",
        "        X = Xtrain[indsBatch, :]\n",
        "        Y = Ytrain[indsBatch, :]\n",
        "\n",
        "        # write the optimization algorithm on the batch (X,Y)\n",
        "        # using the functions: forward, loss_accuracy, sgd\n",
        "        # and the backward function with autograd\n",
        "\n",
        "    ####################\n",
        "    ##      END        #\n",
        "    ####################\n",
        "\n",
        "\n",
        "    Yhat_train, _ = forward(params, data.Xtrain)\n",
        "    Yhat_test, _ = forward(params, data.Xtest)\n",
        "    Ltrain, acctrain = loss_accuracy(Yhat_train, data.Ytrain)\n",
        "    Ltest, acctest = loss_accuracy(Yhat_test, data.Ytest)\n",
        "    Ygrid, _ = forward(params, data.Xgrid)\n",
        "\n",
        "    title = 'Iter {}: Acc train {:.1f}% ({:.2f}), acc test {:.1f}% ({:.2f})'.format(iteration, acctrain, Ltrain, acctest, Ltest)\n",
        "    print(title)\n",
        "    # detach() is used to remove the predictions from the computational graph in autograd\n",
        "    data.plot_data_with_grid(Ygrid.detach(), title)\n",
        "\n",
        "    curves[0].append(acctrain)\n",
        "    curves[1].append(acctest)\n",
        "    curves[2].append(Ltrain)\n",
        "    curves[3].append(Ltest)\n",
        "\n",
        "fig = plt.figure()\n",
        "plt.plot(curves[0], label=\"acc. train\")\n",
        "plt.plot(curves[1], label=\"acc. test\")\n",
        "plt.plot(curves[2], label=\"loss train\")\n",
        "plt.plot(curves[3], label=\"loss test\")\n",
        "plt.legend()\n",
        "plt.show()"
      ]
    },
    {
      "cell_type": "markdown",
      "metadata": {
        "id": "5FV1iss68J6H"
      },
      "source": [
        "# Part 3 : Simplification of the forward pass with `torch.nn`"
      ]
    },
    {
      "cell_type": "markdown",
      "metadata": {
        "id": "x6T5Uq7JEl47"
      },
      "source": [
        "`init_params` and `forward` are replaced by the `init_model` function which defines the network architecture and the loss."
      ]
    },
    {
      "cell_type": "code",
      "execution_count": null,
      "metadata": {
        "id": "5-h4r-FH8J6I"
      },
      "outputs": [],
      "source": [
        "def init_model(nx, nh, ny):\n",
        "\n",
        "    #####################\n",
        "    ## Your code here  ##\n",
        "    #####################\n",
        "\n",
        "    model = None\n",
        "    loss = None\n",
        "\n",
        "    ####################\n",
        "    ##      END        #\n",
        "    ####################\n",
        "\n",
        "    return model, loss"
      ]
    },
    {
      "cell_type": "code",
      "execution_count": null,
      "metadata": {
        "id": "geE_TI96FXnl"
      },
      "outputs": [],
      "source": [
        "def loss_accuracy(loss, Yhat, Y):\n",
        "\n",
        "    #####################\n",
        "    ## Your code here  ##\n",
        "    #####################\n",
        "    # call the loss function\n",
        "\n",
        "    L = 0\n",
        "    acc = 0\n",
        "\n",
        "    ####################\n",
        "    ##      END        #\n",
        "    ####################\n",
        "\n",
        "    return L, acc"
      ]
    },
    {
      "cell_type": "code",
      "execution_count": null,
      "metadata": {
        "id": "e93bvFiYGKnA"
      },
      "outputs": [],
      "source": [
        "def sgd(model, eta):\n",
        "\n",
        "    #####################\n",
        "    ## Your code here  ##\n",
        "    #####################\n",
        "    # update the network weights\n",
        "    # warning: use torch.no_grad()\n",
        "    # and reset to zero the gradient accumulators\n",
        "\n",
        "\n",
        "    ####################\n",
        "    ##      END        #\n",
        "    ####################\n",
        "    return model"
      ]
    },
    {
      "cell_type": "markdown",
      "metadata": {
        "id": "aOxBMmD4Gxtp"
      },
      "source": [
        "## Global learning procedure with autograd and `torch.nn`"
      ]
    },
    {
      "cell_type": "code",
      "execution_count": null,
      "metadata": {
        "id": "4hMBmCNvHCLn"
      },
      "outputs": [],
      "source": [
        "# init\n",
        "data = CirclesData()\n",
        "data.plot_data()\n",
        "N = data.Xtrain.shape[0]\n",
        "Nbatch = 10\n",
        "nx = data.Xtrain.shape[1]\n",
        "nh = 10\n",
        "ny = data.Ytrain.shape[1]\n",
        "eta = 0.03\n",
        "\n",
        "model, loss = init_model(nx, nh, ny)\n",
        "\n",
        "curves = [[],[], [], []]\n",
        "\n",
        "# epoch\n",
        "for iteration in range(150):\n",
        "\n",
        "    # permute\n",
        "    perm = np.random.permutation(N)\n",
        "    Xtrain = data.Xtrain[perm, :]\n",
        "    Ytrain = data.Ytrain[perm, :]\n",
        "\n",
        "    #####################\n",
        "    ## Your code here  ##\n",
        "    #####################\n",
        "    # batches\n",
        "    for j in range(N // Nbatch):\n",
        "\n",
        "        indsBatch = range(j * Nbatch, (j+1) * Nbatch)\n",
        "        X = Xtrain[indsBatch, :]\n",
        "        Y = Ytrain[indsBatch, :]\n",
        "\n",
        "        # write the optimization algorithm on the batch (X,Y)\n",
        "        # using the functions: loss_accuracy, sgd\n",
        "        # the forward with the predict method from the model\n",
        "        # and the backward function with autograd\n",
        "\n",
        "    ####################\n",
        "    ##      END        #\n",
        "    ####################\n",
        "\n",
        "\n",
        "    Yhat_train = model(data.Xtrain)\n",
        "    Yhat_test = model(data.Xtest)\n",
        "    Ltrain, acctrain = loss_accuracy(loss, Yhat_train, data.Ytrain)\n",
        "    Ltest, acctest = loss_accuracy(loss, Yhat_test, data.Ytest)\n",
        "    Ygrid = model(data.Xgrid)\n",
        "\n",
        "    title = 'Iter {}: Acc train {:.1f}% ({:.2f}), acc test {:.1f}% ({:.2f})'.format(iteration, acctrain, Ltrain, acctest, Ltest)\n",
        "    print(title)\n",
        "    data.plot_data_with_grid(torch.nn.Softmax(dim=1)(Ygrid.detach()), title)\n",
        "\n",
        "    curves[0].append(acctrain)\n",
        "    curves[1].append(acctest)\n",
        "    curves[2].append(Ltrain)\n",
        "    curves[3].append(Ltest)\n",
        "\n",
        "fig = plt.figure()\n",
        "plt.plot(curves[0], label=\"acc. train\")\n",
        "plt.plot(curves[1], label=\"acc. test\")\n",
        "plt.plot(curves[2], label=\"loss train\")\n",
        "plt.plot(curves[3], label=\"loss test\")\n",
        "plt.legend()\n",
        "plt.show()"
      ]
    },
    {
      "cell_type": "markdown",
      "metadata": {
        "id": "GoFSrQNsJCnz"
      },
      "source": [
        "# Part 4 : Simplification of the SGD with `torch.optim`"
      ]
    },
    {
      "cell_type": "code",
      "execution_count": null,
      "metadata": {
        "id": "S8WtN9loJPqP"
      },
      "outputs": [],
      "source": [
        "def init_model(nx, nh, ny, eta):\n",
        "\n",
        "    #####################\n",
        "    ## Your code here  ##\n",
        "    #####################\n",
        "\n",
        "    model = None\n",
        "    loss = None\n",
        "    optim = None\n",
        "\n",
        "    ####################\n",
        "    ##      END        #\n",
        "    ####################\n",
        "\n",
        "    return model, loss, optim"
      ]
    },
    {
      "cell_type": "markdown",
      "metadata": {
        "id": "eY-0rRzPJYDd"
      },
      "source": [
        "The `sgd` function is replaced by calling the `optim.zero_grad()` before the backward and `optim.step()` after."
      ]
    },
    {
      "cell_type": "markdown",
      "metadata": {
        "id": "q82hCupvJxvV"
      },
      "source": [
        "## Algorithme global d'apprentissage (avec autograd, les couches `torch.nn` et `torch.optim`)"
      ]
    },
    {
      "cell_type": "code",
      "execution_count": null,
      "metadata": {
        "id": "V9h9nINKJ1LU"
      },
      "outputs": [],
      "source": [
        "# init\n",
        "data = CirclesData()\n",
        "data.plot_data()\n",
        "N = data.Xtrain.shape[0]\n",
        "Nbatch = 10\n",
        "nx = data.Xtrain.shape[1]\n",
        "nh = 10\n",
        "ny = data.Ytrain.shape[1]\n",
        "eta = 0.03\n",
        "\n",
        "model, loss, optim = init_model(nx, nh, ny, eta)\n",
        "\n",
        "curves = [[],[], [], []]\n",
        "\n",
        "# epoch\n",
        "for iteration in range(150):\n",
        "\n",
        "    # permute\n",
        "    perm = np.random.permutation(N)\n",
        "    Xtrain = data.Xtrain[perm, :]\n",
        "    Ytrain = data.Ytrain[perm, :]\n",
        "\n",
        "    #####################\n",
        "    ## Your code  here ##\n",
        "    #####################\n",
        "    # batches\n",
        "    for j in range(N // Nbatch):\n",
        "\n",
        "        indsBatch = range(j * Nbatch, (j+1) * Nbatch)\n",
        "        X = Xtrain[indsBatch, :]\n",
        "        Y = Ytrain[indsBatch, :]\n",
        "\n",
        "        # write the optimization algorithm on the batch (X,Y)\n",
        "        # using the functions: loss_accuracy\n",
        "        # the forward with the predict method from the model\n",
        "        # the backward function with autograd\n",
        "        # and then an optimization step\n",
        "\n",
        "    ####################\n",
        "    ##      FIN        #\n",
        "    ####################\n",
        "\n",
        "\n",
        "    Yhat_train = model(data.Xtrain)\n",
        "    Yhat_test = model(data.Xtest)\n",
        "    Ltrain, acctrain = loss_accuracy(loss, Yhat_train, data.Ytrain)\n",
        "    Ltest, acctest = loss_accuracy(loss, Yhat_test, data.Ytest)\n",
        "    Ygrid = model(data.Xgrid)\n",
        "\n",
        "    title = 'Iter {}: Acc train {:.1f}% ({:.2f}), acc test {:.1f}% ({:.2f})'.format(iteration, acctrain, Ltrain, acctest, Ltest)\n",
        "    print(title)\n",
        "    data.plot_data_with_grid(torch.nn.Softmax(dim=1)(Ygrid.detach()), title)\n",
        "\n",
        "    curves[0].append(acctrain)\n",
        "    curves[1].append(acctest)\n",
        "    curves[2].append(Ltrain)\n",
        "    curves[3].append(Ltest)\n",
        "\n",
        "fig = plt.figure()\n",
        "plt.plot(curves[0], label=\"acc. train\")\n",
        "plt.plot(curves[1], label=\"acc. test\")\n",
        "plt.plot(curves[2], label=\"loss train\")\n",
        "plt.plot(curves[3], label=\"loss test\")\n",
        "plt.legend()\n",
        "plt.show()"
      ]
    },
    {
      "cell_type": "markdown",
      "metadata": {
        "id": "Ts1s4JuOSaZ3"
      },
      "source": [
        "# Part 5 : MNIST"
      ]
    },
    {
      "cell_type": "markdown",
      "metadata": {
        "id": "jly9C4FCSzLP"
      },
      "source": [
        "Apply the code from previous part code to the MNIST dataset."
      ]
    },
    {
      "cell_type": "code",
      "execution_count": null,
      "metadata": {
        "id": "osrFoEr_Syi7"
      },
      "outputs": [],
      "source": [
        "# init\n",
        "data = MNISTData()\n",
        "N = data.Xtrain.shape[0]\n",
        "Nbatch = 100\n",
        "nx = data.Xtrain.shape[1]\n",
        "nh = 100\n",
        "ny = data.Ytrain.shape[1]\n",
        "eta = 0.03"
      ]
    },
    {
      "cell_type": "markdown",
      "metadata": {
        "id": "YRoiGbhvmSLO"
      },
      "source": [
        "# Part 6: Bonus: SVM\n",
        "\n",
        "\n",
        "Train a SVM model on the Circles dataset.\n",
        "\n",
        "Ideas :\n",
        "- First try a linear SVM (sklearn.svm.LinearSVC dans scikit-learn). Does it work well ? Why ?\n",
        "- Then try more complex kernels (sklearn.svm.SVC). Which one is the best ? why ?\n",
        "- Does the parameter C of regularization have an impact? Why ?"
      ]
    },
    {
      "cell_type": "code",
      "execution_count": null,
      "metadata": {
        "id": "VWeW8siymR3g"
      },
      "outputs": [],
      "source": [
        "# data\n",
        "data = CirclesData()\n",
        "Xtrain = data.Xtrain.numpy()\n",
        "Ytrain = data.Ytrain[:, 0].numpy()\n",
        "\n",
        "Xgrid = data.Xgrid.numpy()\n",
        "\n",
        "Xtest = data.Xtest.numpy()\n",
        "Ytest = data.Ytest[:, 0].numpy()\n",
        "\n",
        "def plot_svm_predictions(data, predictions):\n",
        "      plt.figure(2)\n",
        "      plt.clf()\n",
        "      plt.imshow(np.reshape(predictions, (40,40)))\n",
        "      plt.plot(data._Xtrain[data._Ytrain[:,0] == 1,0]*10+20, data._Xtrain[data._Ytrain[:,0] == 1,1]*10+20, 'bo', label=\"Train\")\n",
        "      plt.plot(data._Xtrain[data._Ytrain[:,1] == 1,0]*10+20, data._Xtrain[data._Ytrain[:,1] == 1,1]*10+20, 'ro')\n",
        "      plt.plot(data._Xtest[data._Ytest[:,0] == 1,0]*10+20, data._Xtest[data._Ytest[:,0] == 1,1]*10+20, 'b+', label=\"Test\")\n",
        "      plt.plot(data._Xtest[data._Ytest[:,1] == 1,0]*10+20, data._Xtest[data._Ytest[:,1] == 1,1]*10+20, 'r+')\n",
        "      plt.xlim(0,39)\n",
        "      plt.ylim(0,39)\n",
        "      plt.clim(0.3,0.7)\n",
        "      plt.draw()\n",
        "      plt.pause(1e-3)"
      ]
    },
    {
      "cell_type": "code",
      "execution_count": null,
      "metadata": {
        "id": "e1xcE6zbmXU1"
      },
      "outputs": [],
      "source": [
        "import sklearn.svm\n",
        "\n",
        "############################\n",
        "### Your code here   #######\n",
        "### Train the SVM    #######\n",
        "## See https://scikit-learn.org/stable/modules/generated/sklearn.svm.LinearSVC.html\n",
        "## and https://scikit-learn.org/stable/modules/generated/sklearn.svm.SVC.html\n",
        "############################\n",
        "\n",
        "svm = None\n",
        "\n",
        "###########################"
      ]
    },
    {
      "cell_type": "code",
      "execution_count": null,
      "metadata": {
        "id": "vgLl7B_3mbOs"
      },
      "outputs": [],
      "source": [
        "## Print results\n",
        "\n",
        "Ytest_pred = svm.predict(Xtest)\n",
        "accuracy = np.sum(Ytest == Ytest_pred) / len(Ytest)\n",
        "print(f\"Accuracy : {100 * accuracy:.2f}\")\n",
        "Ygrid_pred = svm.predict(Xgrid)\n",
        "plot_svm_predictions(data, Ygrid_pred)"
      ]
    }
  ],
  "metadata": {
    "colab": {
      "provenance": []
    },
    "kernelspec": {
      "display_name": "Python 3",
      "language": "python",
      "name": "python3"
    },
    "language_info": {
      "codemirror_mode": {
        "name": "ipython",
        "version": 3
      },
      "file_extension": ".py",
      "mimetype": "text/x-python",
      "name": "python",
      "nbconvert_exporter": "python",
      "pygments_lexer": "ipython3",
      "version": "3.10.9"
    }
  },
  "nbformat": 4,
  "nbformat_minor": 0
}
